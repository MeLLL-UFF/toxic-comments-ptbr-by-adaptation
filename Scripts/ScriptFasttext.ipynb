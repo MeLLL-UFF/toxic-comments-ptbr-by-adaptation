{
 "cells": [
  {
   "cell_type": "code",
   "execution_count": 5,
   "id": "972ce7a9",
   "metadata": {},
   "outputs": [
    {
     "name": "stdout",
     "output_type": "stream",
     "text": [
      "dataset_number = 1\n"
     ]
    },
    {
     "name": "stderr",
     "output_type": "stream",
     "text": [
      "Read 0M words\n",
      "Number of words:  3242\n",
      "Number of labels: 2\n",
      "Progress: 100.0% words/sec/thread:  130116 lr:  0.000000 avg.loss:  0.277431 ETA:   0h 0m 0s\n",
      "Read 0M words\n",
      "Number of words:  3302\n",
      "Number of labels: 2\n"
     ]
    },
    {
     "name": "stdout",
     "output_type": "stream",
     "text": [
      "{'true_positive': 44, 'true_negative': 233, 'false_positive': 17, 'false_negative': 82}\n",
      "Acertos: 277\n",
      "Total: 376\n",
      "Accuracy: 73,67021276595744\n",
      "Precision: 72,1311475409836\n",
      "Recall: 34,92063492063492\n",
      "Fscore: 47,05882352941177\n",
      "dataset_number = 2\n"
     ]
    },
    {
     "name": "stderr",
     "output_type": "stream",
     "text": [
      "\r",
      "Progress: 100.1% words/sec/thread:  133247 lr: -0.000810 avg.loss:  0.271030 ETA:   0h 0m 0s\r",
      "Progress: 100.0% words/sec/thread:  133187 lr:  0.000000 avg.loss:  0.271030 ETA:   0h 0m 0s\n",
      "\r",
      "Read 0M words\n",
      "Number of words:  3264\n",
      "Number of labels: 2\n"
     ]
    },
    {
     "name": "stdout",
     "output_type": "stream",
     "text": [
      "{'true_positive': 51, 'true_negative': 228, 'false_positive': 22, 'false_negative': 75}\n",
      "Acertos: 279\n",
      "Total: 376\n",
      "Accuracy: 74,20212765957447\n",
      "Precision: 69,86301369863014\n",
      "Recall: 40,476190476190474\n",
      "Fscore: 51,256281407035175\n",
      "dataset_number = 3\n",
      "{'true_positive': 48, 'true_negative': 236, 'false_positive': 14, 'false_negative': 78}\n",
      "Acertos: 284\n",
      "Total: 376\n",
      "Accuracy: 75,53191489361703\n",
      "Precision: 77,41935483870968\n",
      "Recall: 38,095238095238095\n",
      "Fscore: 51,06382978723405\n"
     ]
    },
    {
     "name": "stderr",
     "output_type": "stream",
     "text": [
      "\r",
      "Progress: 100.5% words/sec/thread:  133282 lr: -0.005024 avg.loss:  0.230760 ETA:   0h 0m 0s\r",
      "Progress: 100.0% words/sec/thread:  133181 lr:  0.000000 avg.loss:  0.230760 ETA:   0h 0m 0s\n"
     ]
    }
   ],
   "source": [
    "import fasttext\n",
    "\n",
    "for i in range(3):\n",
    "    dataset_number = i + 1\n",
    "\n",
    "    # Lacafe\n",
    "    # train_path = f'./Datasets/Lacafe/FasttextVersiondf_dataset_train_{dataset_number}.txt'\n",
    "    # test_path = f'./Datasets/Lacafe/FasttextVersiondf_dataset_test_{dataset_number}.txt'\n",
    "\n",
    "    # Fortuna (Updated)\n",
    "    # train_path = f'./Datasets/FortunaUpdated/FasttextVersion2019-05-28_portuguese_hate_speech_binary_classification_train_{dataset_number}.txt'\n",
    "    # test_path = f'./Datasets/FortunaUpdated/FasttextVersion2019-05-28_portuguese_hate_speech_binary_classification_test_{dataset_number}.txt'\n",
    "\n",
    "    # OffComBr\n",
    "    # train_path = f'./Datasets/OffComBR/FasttextVersionOffComBR2_train_{dataset_number}.txt'\n",
    "    # test_path = f'./Datasets/OffComBR/FasttextVersionOffComBR2_test_{dataset_number}.txt'\n",
    "\n",
    "    # HateBR\n",
    "    # train_path = f'./Datasets/HateBR/FasttextVersionHateBR_train_{dataset_number}.txt'\n",
    "    # test_path = f'./Datasets/HateBR/FasttextVersionHateBR_test_{dataset_number}.txt'\n",
    "\n",
    "    print(\"dataset_number = \" + str(dataset_number))\n",
    "    model = fasttext.train_supervised(input=train_path, lr=1, epoch=5)\n",
    "    \n",
    "    cm = {'true_positive': 0, 'true_negative': 0, 'false_positive': 0, 'false_negative': 0}\n",
    "    f = open(test_path, \"r\")\n",
    "    examples_amount = 0\n",
    "    for line in f:\n",
    "        examples_amount += 1\n",
    "        \n",
    "        label, *text = line.split(\" \")\n",
    "        text = \" \".join(text).replace(\"\\n\", \"\")\n",
    "\n",
    "        if (model.predict(text)[0][0] == label):\n",
    "            if label == '__label__1':\n",
    "                cm['true_positive'] += 1\n",
    "            else:\n",
    "                cm['true_negative'] += 1\n",
    "        else:\n",
    "            if label == '__label__0':\n",
    "                cm['false_positive'] += 1\n",
    "            else:\n",
    "                cm['false_negative'] += 1\n",
    "    \n",
    "    f.close()\n",
    "    \n",
    "    # Metricas\n",
    "    print(cm)\n",
    "    precision = cm['true_positive'] / (cm['true_positive'] + cm['false_positive'])\n",
    "    recall = cm['true_positive'] / (cm['true_positive'] + cm['false_negative'])\n",
    "    fscore = 2 * ((precision * recall) / (precision + recall))\n",
    "    acertos = cm['true_positive'] + cm['true_negative']\n",
    "    total = examples_amount\n",
    "    print(f'Acertos: {acertos}')\n",
    "    print(f'Total: {total}')\n",
    "    print(f'Accuracy: {str((acertos / total) * 100).replace(\".\", \",\")}')\n",
    "    print(f'Precision: {str((precision * 100)).replace(\".\", \",\")}')\n",
    "    print(f'Recall: {str((recall * 100)).replace(\".\", \",\")}')\n",
    "    print(f'Fscore: {str((fscore * 100)).replace(\".\", \",\")}')\n"
   ]
  }
 ],
 "metadata": {
  "kernelspec": {
   "display_name": "Python 3 (ipykernel)",
   "language": "python",
   "name": "python3"
  },
  "language_info": {
   "codemirror_mode": {
    "name": "ipython",
    "version": 3
   },
   "file_extension": ".py",
   "mimetype": "text/x-python",
   "name": "python",
   "nbconvert_exporter": "python",
   "pygments_lexer": "ipython3",
   "version": "3.8.10"
  }
 },
 "nbformat": 4,
 "nbformat_minor": 5
}
