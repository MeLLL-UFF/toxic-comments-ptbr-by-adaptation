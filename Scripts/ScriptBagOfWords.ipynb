{
 "cells": [
  {
   "cell_type": "code",
   "execution_count": 1,
   "id": "dc75b28d",
   "metadata": {},
   "outputs": [],
   "source": [
    "# pip install arff pandas numpy spacy seaborn matplotlib sklearn openpyxl\n",
    "# python3 -m spacy download pt_core_news_sm"
   ]
  },
  {
   "cell_type": "code",
   "execution_count": 2,
   "id": "dc8a475b",
   "metadata": {},
   "outputs": [
    {
     "name": "stderr",
     "output_type": "stream",
     "text": [
      "2022-01-05 00:56:04.683920: W tensorflow/stream_executor/platform/default/dso_loader.cc:64] Could not load dynamic library 'libcudart.so.11.0'; dlerror: libcudart.so.11.0: cannot open shared object file: No such file or directory\n",
      "2022-01-05 00:56:04.683954: I tensorflow/stream_executor/cuda/cudart_stub.cc:29] Ignore above cudart dlerror if you do not have a GPU set up on your machine.\n"
     ]
    }
   ],
   "source": [
    "# Fazendo imports\n",
    "import arff\n",
    "import pandas as pd\n",
    "import numpy as np\n",
    "import seaborn as sns\n",
    "import matplotlib.pyplot as plt\n",
    "from spacy.lang.pt.stop_words import STOP_WORDS\n",
    "from spacy.lang.pt import Portuguese\n",
    "\n",
    "from sklearn.feature_extraction.text import CountVectorizer, TfidfTransformer, TfidfVectorizer\n",
    "from sklearn.base import TransformerMixin\n",
    "from sklearn.pipeline import Pipeline\n",
    "from sklearn.model_selection import train_test_split, cross_val_score\n",
    "from sklearn.model_selection import GridSearchCV"
   ]
  },
  {
   "cell_type": "code",
   "execution_count": 3,
   "id": "1e320365",
   "metadata": {},
   "outputs": [],
   "source": [
    "### Criando dataset de treino e de teste ###\n",
    "dataset_number = 2\n",
    "\n",
    "# Lacafe\n",
    "# text = 'txt'\n",
    "# label = 'has_anger'\n",
    "# train_data = pd.read_csv(f'./Datasets/Lacafe/df_dataset_train_{dataset_number}.csv')\n",
    "# test_data = pd.read_csv(f'./Datasets/Lacafe/df_dataset_test_{dataset_number}.csv')\n",
    "\n",
    "# Fortuna\n",
    "# text = 'text'\n",
    "# label = 'hatespeech_comb'\n",
    "# train_data = pd.read_csv(f'./Datasets/Fortuna/2019-05-28_portuguese_hate_speech_binary_classification_train_{dataset_number}.csv')\n",
    "# test_data = pd.read_csv(f'./Datasets/Fortuna/2019-05-28_portuguese_hate_speech_binary_classification_test_{dataset_number}.csv')\n",
    "\n",
    "# ToLD-BR\n",
    "text = 'text'\n",
    "label = 'hatespeech'\n",
    "train_data = pd.read_csv(f'./Datasets/ToldBR/ToLD-BR-Treated_train_{dataset_number}.csv')\n",
    "test_data = pd.read_csv(f'./Datasets/ToldBR/ToLD-BR-Treated_test_{dataset_number}.csv')\n",
    "\n",
    "# OffComBr\n",
    "# text = 'text'\n",
    "# label = 'offensive'\n",
    "# train_data = pd.read_csv(f'./Datasets/OffComBR/OffComBR2_train_{dataset_number}.csv')\n",
    "# test_data = pd.read_csv(f'./Datasets/OffComBR/OffComBR2_test_{dataset_number}.csv')"
   ]
  },
  {
   "cell_type": "code",
   "execution_count": 4,
   "id": "bfd49ec0",
   "metadata": {},
   "outputs": [],
   "source": [
    "# Word tokenization\n",
    "import spacy\n",
    "import string\n",
    "\n",
    "# Create our list of punctuation marks\n",
    "punctuations = string.punctuation\n",
    "\n",
    "# Create our list of stopwords\n",
    "nlp = spacy.load('pt_core_news_sm')\n",
    "stop_words = spacy.lang.pt.stop_words.STOP_WORDS\n",
    "\n",
    "# Creating our tokenizer function\n",
    "def spacy_tokenizer(sentence, lemmatize=False, remove_stop_words=False, remove_punctuations=False):\n",
    "    # Creating our token object, which is used to create documents with linguistic annotations.\n",
    "    mytokens = nlp(sentence)\n",
    "\n",
    "    # Lematizando os tokens e colocando em caixa baixa\n",
    "    if (lemmatize):\n",
    "        mytokens = [ word.lemma_.lower().strip() for word in mytokens ]\n",
    "    else:\n",
    "        mytokens = [ word.text.lower().strip() for word in mytokens ]\n",
    "\n",
    "    # Removendo stop words\n",
    "    if (remove_stop_words):\n",
    "        mytokens = [ word for word in mytokens if word not in stop_words ]        \n",
    "        \n",
    "    if (remove_punctuations):\n",
    "        mytokens = [ word for word in mytokens if word not in punctuations ]\n",
    "        \n",
    "    # Retornando a lista de token reprocessado\n",
    "    return mytokens\n",
    "\n",
    "text_pipeline = lambda x: spacy_tokenizer(x, lemmatize=True, remove_stop_words=True)\n",
    "label_pipeline = lambda x: int(x)"
   ]
  },
  {
   "cell_type": "code",
   "execution_count": 5,
   "id": "793a0283",
   "metadata": {},
   "outputs": [
    {
     "data": {
      "text/html": [
       "<div>\n",
       "<style scoped>\n",
       "    .dataframe tbody tr th:only-of-type {\n",
       "        vertical-align: middle;\n",
       "    }\n",
       "\n",
       "    .dataframe tbody tr th {\n",
       "        vertical-align: top;\n",
       "    }\n",
       "\n",
       "    .dataframe thead th {\n",
       "        text-align: right;\n",
       "    }\n",
       "</style>\n",
       "<table border=\"1\" class=\"dataframe\">\n",
       "  <thead>\n",
       "    <tr style=\"text-align: right;\">\n",
       "      <th></th>\n",
       "      <th>text</th>\n",
       "      <th>hatespeech</th>\n",
       "    </tr>\n",
       "  </thead>\n",
       "  <tbody>\n",
       "    <tr>\n",
       "      <th>0</th>\n",
       "      <td>[queimar, cigarrar, causar, puta, rosar, corno...</td>\n",
       "      <td>1</td>\n",
       "    </tr>\n",
       "    <tr>\n",
       "      <th>1</th>\n",
       "      <td>[gabi, fdp, desgraçar]</td>\n",
       "      <td>1</td>\n",
       "    </tr>\n",
       "    <tr>\n",
       "      <th>2</th>\n",
       "      <td>[hoje, puto, pq, querer, umar, mamar, https://...</td>\n",
       "      <td>1</td>\n",
       "    </tr>\n",
       "    <tr>\n",
       "      <th>3</th>\n",
       "      <td>[fogo, racista, caralho, !]</td>\n",
       "      <td>1</td>\n",
       "    </tr>\n",
       "    <tr>\n",
       "      <th>4</th>\n",
       "      <td>[embalar, caralho, !, !, !, !, tomar, ,, putaa...</td>\n",
       "      <td>1</td>\n",
       "    </tr>\n",
       "  </tbody>\n",
       "</table>\n",
       "</div>"
      ],
      "text/plain": [
       "                                                text  hatespeech\n",
       "0  [queimar, cigarrar, causar, puta, rosar, corno...           1\n",
       "1                             [gabi, fdp, desgraçar]           1\n",
       "2  [hoje, puto, pq, querer, umar, mamar, https://...           1\n",
       "3                        [fogo, racista, caralho, !]           1\n",
       "4  [embalar, caralho, !, !, !, !, tomar, ,, putaa...           1"
      ]
     },
     "execution_count": 5,
     "metadata": {},
     "output_type": "execute_result"
    }
   ],
   "source": [
    "# Tokenizando, transformando para lemas e botando em caixa baixa cada tweet\n",
    "train_data[text] = [text_pipeline(str(txt)) for txt in train_data[text]]\n",
    "test_data[text] = [text_pipeline(str(txt)) for txt in test_data[text]]\n",
    "\n",
    "train_data.head()"
   ]
  },
  {
   "cell_type": "code",
   "execution_count": 6,
   "id": "b349624a",
   "metadata": {
    "scrolled": true
   },
   "outputs": [
    {
     "data": {
      "text/html": [
       "<div>\n",
       "<style scoped>\n",
       "    .dataframe tbody tr th:only-of-type {\n",
       "        vertical-align: middle;\n",
       "    }\n",
       "\n",
       "    .dataframe tbody tr th {\n",
       "        vertical-align: top;\n",
       "    }\n",
       "\n",
       "    .dataframe thead th {\n",
       "        text-align: right;\n",
       "    }\n",
       "</style>\n",
       "<table border=\"1\" class=\"dataframe\">\n",
       "  <thead>\n",
       "    <tr style=\"text-align: right;\">\n",
       "      <th></th>\n",
       "      <th>text</th>\n",
       "      <th>hatespeech</th>\n",
       "    </tr>\n",
       "  </thead>\n",
       "  <tbody>\n",
       "    <tr>\n",
       "      <th>0</th>\n",
       "      <td>queimar cigarrar causar puta rosar corno fse 😂 😂</td>\n",
       "      <td>1</td>\n",
       "    </tr>\n",
       "    <tr>\n",
       "      <th>1</th>\n",
       "      <td>gabi fdp desgraçar</td>\n",
       "      <td>1</td>\n",
       "    </tr>\n",
       "    <tr>\n",
       "      <th>2</th>\n",
       "      <td>hoje puto pq querer umar mamar https://t.co/db...</td>\n",
       "      <td>1</td>\n",
       "    </tr>\n",
       "    <tr>\n",
       "      <th>3</th>\n",
       "      <td>fogo racista caralho !</td>\n",
       "      <td>1</td>\n",
       "    </tr>\n",
       "    <tr>\n",
       "      <th>4</th>\n",
       "      <td>embalar caralho ! ! ! ! tomar , putaaaaaaa ! !</td>\n",
       "      <td>1</td>\n",
       "    </tr>\n",
       "  </tbody>\n",
       "</table>\n",
       "</div>"
      ],
      "text/plain": [
       "                                                text  hatespeech\n",
       "0   queimar cigarrar causar puta rosar corno fse 😂 😂           1\n",
       "1                                 gabi fdp desgraçar           1\n",
       "2  hoje puto pq querer umar mamar https://t.co/db...           1\n",
       "3                             fogo racista caralho !           1\n",
       "4     embalar caralho ! ! ! ! tomar , putaaaaaaa ! !           1"
      ]
     },
     "execution_count": 6,
     "metadata": {},
     "output_type": "execute_result"
    }
   ],
   "source": [
    "# Juntando os tokens de volta em um única string\n",
    "# data[text] = data.apply(lambda x: \" \".join(x[text]), axis=1)\n",
    "train_data[text] = train_data.apply(lambda x: \" \".join(x[text]), axis=1)\n",
    "test_data[text] = test_data.apply(lambda x: \" \".join(x[text]), axis=1)\n",
    "\n",
    "train_data.head()"
   ]
  },
  {
   "cell_type": "code",
   "execution_count": 7,
   "id": "e465240d",
   "metadata": {},
   "outputs": [],
   "source": [
    "# Separando o treino e o teste em dois conjuntos diferentes\n",
    "x_train = train_data[text]\n",
    "y_train = train_data[label]\n",
    "x_test = test_data[text]\n",
    "y_test = test_data[label]"
   ]
  },
  {
   "cell_type": "code",
   "execution_count": 8,
   "id": "83ab6932",
   "metadata": {},
   "outputs": [],
   "source": [
    "# convertendo em BOW com valoração de frequência\n",
    "freq_vector = CountVectorizer(min_df=5, ngram_range=(1,2)).fit(train_data[text])\n",
    "\n",
    "x_train = freq_vector.transform(x_train)\n",
    "x_test = freq_vector.transform(x_test)"
   ]
  },
  {
   "cell_type": "code",
   "execution_count": 9,
   "id": "f1031516",
   "metadata": {},
   "outputs": [
    {
     "data": {
      "text/plain": [
       "(14699, 4213)"
      ]
     },
     "execution_count": 9,
     "metadata": {},
     "output_type": "execute_result"
    }
   ],
   "source": [
    "x_train.shape"
   ]
  },
  {
   "cell_type": "code",
   "execution_count": 10,
   "id": "42d5767f",
   "metadata": {},
   "outputs": [
    {
     "data": {
      "text/plain": [
       "(6301, 4213)"
      ]
     },
     "execution_count": 10,
     "metadata": {},
     "output_type": "execute_result"
    }
   ],
   "source": [
    "x_test.shape"
   ]
  },
  {
   "cell_type": "code",
   "execution_count": 11,
   "id": "269c6895",
   "metadata": {},
   "outputs": [
    {
     "data": {
      "text/plain": [
       "LogisticRegression(max_iter=500)"
      ]
     },
     "execution_count": 11,
     "metadata": {},
     "output_type": "execute_result"
    }
   ],
   "source": [
    "# Logistic Regression Classifier sem Cross Validation\n",
    "from sklearn.linear_model import LogisticRegression\n",
    "classifier = LogisticRegression(max_iter=500)\n",
    "\n",
    "# model generation\n",
    "classifier.fit(x_train, y_train)"
   ]
  },
  {
   "cell_type": "code",
   "execution_count": 12,
   "id": "2206800e",
   "metadata": {},
   "outputs": [
    {
     "name": "stdout",
     "output_type": "stream",
     "text": [
      "---- Dataset de treino ----\n",
      "Accuracy: 89.1285%\n",
      "Precision: 87.3653%\n",
      "Recall: 75.4604%\n",
      "Fscore: 79.4882%\n"
     ]
    }
   ],
   "source": [
    "# Resultados do dataset de treino\n",
    "\n",
    "from sklearn.metrics import precision_recall_fscore_support\n",
    "from sklearn.metrics import accuracy_score\n",
    "\n",
    "y_pred_train = classifier.predict(x_train)\n",
    "metrics = precision_recall_fscore_support(y_train, y_pred_train, average='macro')\n",
    "accuracy = accuracy_score(y_train, y_pred_train)\n",
    "\n",
    "print('---- Dataset de treino ----')\n",
    "print(f'Accuracy: {(accuracy * 100):.4f}%')\n",
    "print(f'Precision: {(metrics[0] * 100):.4f}%')\n",
    "print(f'Recall: {(metrics[1] * 100):.4f}%')\n",
    "print(f'Fscore: {(metrics[2] * 100):.4f}%')"
   ]
  },
  {
   "cell_type": "code",
   "execution_count": 13,
   "id": "7f5d3610",
   "metadata": {},
   "outputs": [
    {
     "name": "stdout",
     "output_type": "stream",
     "text": [
      "---- Dataset de teste ----\n",
      "Accuracy: 83.2408%\n",
      "Precision: 73.6102%\n",
      "Recall: 65.6652%\n",
      "Fscore: 68.0732%\n"
     ]
    }
   ],
   "source": [
    "# Resultados do dataset de teste\n",
    "\n",
    "y_pred = classifier.predict(x_test)\n",
    "metrics = precision_recall_fscore_support(y_test, y_pred, average='macro')\n",
    "accuracy = accuracy_score(y_test, y_pred)\n",
    "\n",
    "print('---- Dataset de teste ----')\n",
    "print(f'Accuracy: {(accuracy * 100):.4f}%')\n",
    "print(f'Precision: {(metrics[0] * 100):.4f}%')\n",
    "print(f'Recall: {(metrics[1] * 100):.4f}%')\n",
    "print(f'Fscore: {(metrics[2] * 100):.4f}%')"
   ]
  },
  {
   "cell_type": "code",
   "execution_count": 14,
   "id": "07de8180",
   "metadata": {},
   "outputs": [
    {
     "data": {
      "image/png": "[encoded data removed]",
      "text/plain": [
       "<Figure size 432x288 with 2 Axes>"
      ]
     },
     "metadata": {},
     "output_type": "display_data"
    }
   ],
   "source": [
    "# Plotando matriz de confusão de teste\n",
    "\n",
    "from sklearn.metrics import confusion_matrix\n",
    "cm = confusion_matrix(y_test, y_pred)\n",
    "\n",
    "def plot_cm(conf_matrix):\n",
    "  sns.set(font_scale=1.4,color_codes=True,palette=\"deep\")\n",
    "  sns.heatmap(cm,annot=True,annot_kws={\"size\":16},fmt=\"d\",cmap=\"YlGnBu\")\n",
    "  plt.title(\"Confusion Matrix\")\n",
    "  plt.xlabel(\"Predicted Value\")\n",
    "  plt.ylabel(\"True Value\")\n",
    "\n",
    "plot_cm(cm)"
   ]
  },
  {
   "cell_type": "code",
   "execution_count": 15,
   "id": "febffd47",
   "metadata": {
    "scrolled": true
   },
   "outputs": [
    {
     "name": "stdout",
     "output_type": "stream",
     "text": [
      "x:  \n",
      "y:  [0]\n"
     ]
    },
    {
     "name": "stderr",
     "output_type": "stream",
     "text": [
      "/home/arthurn/.local/lib/python3.8/site-packages/sklearn/metrics/_classification.py:1308: UndefinedMetricWarning: Precision and F-score are ill-defined and being set to 0.0 in labels with no predicted samples. Use `zero_division` parameter to control this behavior.\n",
      "  _warn_prf(average, modifier, msg_start, len(result))\n",
      "/home/arthurn/.local/lib/python3.8/site-packages/sklearn/metrics/_classification.py:1308: UndefinedMetricWarning: Recall and F-score are ill-defined and being set to 0.0 in labels with no true samples. Use `zero_division` parameter to control this behavior.\n",
      "  _warn_prf(average, modifier, msg_start, len(result))\n"
     ]
    },
    {
     "data": {
      "text/plain": [
       "(0.0, 0.0, 0.0, None)"
      ]
     },
     "execution_count": 15,
     "metadata": {},
     "output_type": "execute_result"
    }
   ],
   "source": [
    "# TESTE\n",
    "x_try = freq_vector.transform([''])\n",
    "\n",
    "print(\"x: \", x_try)\n",
    "\n",
    "y_try = classifier.predict(x_try)\n",
    "\n",
    "print(\"y: \", y_try)\n",
    "\n",
    "precision_recall_fscore_support(y_try, [1.0], average='macro')"
   ]
  },
  {
   "cell_type": "code",
   "execution_count": null,
   "id": "9a5fd291",
   "metadata": {},
   "outputs": [],
   "source": []
  }
 ],
 "metadata": {
  "kernelspec": {
   "display_name": "Python 3 (ipykernel)",
   "language": "python",
   "name": "python3"
  },
  "language_info": {
   "codemirror_mode": {
    "name": "ipython",
    "version": 3
   },
   "file_extension": ".py",
   "mimetype": "text/x-python",
   "name": "python",
   "nbconvert_exporter": "python",
   "pygments_lexer": "ipython3",
   "version": "3.8.10"
  }
 },
 "nbformat": 4,
 "nbformat_minor": 5
}
