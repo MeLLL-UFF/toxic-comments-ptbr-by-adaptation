{
 "cells": [
  {
   "cell_type": "code",
   "execution_count": 81,
   "id": "ba114a0c",
   "metadata": {},
   "outputs": [],
   "source": [
    "import pandas as pd\n",
    "import numpy as np\n",
    "import os"
   ]
  },
  {
   "cell_type": "code",
   "execution_count": 82,
   "id": "6dc77e03",
   "metadata": {},
   "outputs": [],
   "source": [
    "# Constantes\n",
    "PATH = './Datasets/Lacafe' # Caminho para a pasta onde está o arquivo do dataset\n",
    "ARCHIVE_NAME = 'df_dataset' # Nome do arquivo do dataset sem extensao\n",
    "EXTENSION = 'csv' # Extensao do arquivo\n",
    "\n",
    "TEXT_COLUMN = 'txt' # Nome da coluna no arquivo que representa o texto\n",
    "CLASS_COLUMN = 'has_anger' # Nome da coluna no arquivo que representa a classe ou rotulo\n",
    "\n",
    "TRAIN_PERCENTAGE = 0.7 # Porcentagem do dataset que sera utilizado para treino\n",
    "\n",
    "AMOUNT_OF_TRAIN_TEST_DATASETS = 3 # Quantidade de divisoes de treino e teste que deverao ser realizadas"
   ]
  },
  {
   "cell_type": "code",
   "execution_count": 86,
   "id": "5c6b2f0d",
   "metadata": {
    "scrolled": true
   },
   "outputs": [
    {
     "name": "stdout",
     "output_type": "stream",
     "text": [
      "Total de dados: 7672\n",
      "Quantidade de classes positivas: 3836\n",
      "Quantidade de classes negativas: 3836\n",
      "\n",
      "Quantidade de exemplos de treino: 5370\n",
      "Quantidade de exemplos de teste: 2302\n",
      "\n",
      "Caminho do arquivo de treino: ./Datasets/Lacafe/df_dataset_train_1.csv\n",
      "Caminho de arquivo de teste: ./Datasets/Lacafe/df_dataset_test_1.csv\n",
      "\n",
      "Arquivo ./Datasets/Lacafe/df_dataset_train_1.csv já existe\n"
     ]
    },
    {
     "ename": "Exception",
     "evalue": "Arquivo ./Datasets/Lacafe/df_dataset_test_1.csv já existe",
     "output_type": "error",
     "traceback": [
      "\u001b[0;31m---------------------------------------------------------------------------\u001b[0m",
      "\u001b[0;31mException\u001b[0m                                 Traceback (most recent call last)",
      "\u001b[0;32m/tmp/ipykernel_19920/2196653106.py\u001b[0m in \u001b[0;36m<module>\u001b[0;34m\u001b[0m\n\u001b[1;32m     43\u001b[0m     \u001b[0;32melse\u001b[0m\u001b[0;34m:\u001b[0m\u001b[0;34m\u001b[0m\u001b[0;34m\u001b[0m\u001b[0m\n\u001b[1;32m     44\u001b[0m         \u001b[0mprint\u001b[0m\u001b[0;34m(\u001b[0m\u001b[0;34mf'Arquivo {train_path} já existe'\u001b[0m\u001b[0;34m)\u001b[0m\u001b[0;34m\u001b[0m\u001b[0;34m\u001b[0m\u001b[0m\n\u001b[0;32m---> 45\u001b[0;31m         \u001b[0;32mraise\u001b[0m \u001b[0mException\u001b[0m\u001b[0;34m(\u001b[0m\u001b[0;34mf'Arquivo {test_path} já existe'\u001b[0m\u001b[0;34m)\u001b[0m\u001b[0;34m\u001b[0m\u001b[0;34m\u001b[0m\u001b[0m\n\u001b[0m\u001b[1;32m     46\u001b[0m \u001b[0;34m\u001b[0m\u001b[0m\n\u001b[1;32m     47\u001b[0m     \u001b[0;32mif\u001b[0m \u001b[0;34m(\u001b[0m\u001b[0;32mnot\u001b[0m \u001b[0mos\u001b[0m\u001b[0;34m.\u001b[0m\u001b[0mpath\u001b[0m\u001b[0;34m.\u001b[0m\u001b[0misfile\u001b[0m\u001b[0;34m(\u001b[0m\u001b[0mtest_path\u001b[0m\u001b[0;34m)\u001b[0m\u001b[0;34m)\u001b[0m\u001b[0;34m:\u001b[0m\u001b[0;34m\u001b[0m\u001b[0;34m\u001b[0m\u001b[0m\n",
      "\u001b[0;31mException\u001b[0m: Arquivo ./Datasets/Lacafe/df_dataset_test_1.csv já existe"
     ]
    }
   ],
   "source": [
    "for i in range(AMOUNT_OF_TRAIN_TEST_DATASETS):\n",
    "    data = pd.read_csv(PATH + '/' + ARCHIVE_NAME + '.' + EXTENSION)\n",
    "\n",
    "    total_positive_examples = len(data[data[CLASS_COLUMN] == 1].values)\n",
    "    total_negative_examples = len(data[data[CLASS_COLUMN] == 0].values)\n",
    "    total = len(data.values)\n",
    "\n",
    "    print('Total de dados: ' + str(total))\n",
    "    print('Quantidade de classes positivas: ' + str(total_positive_examples))\n",
    "    print('Quantidade de classes negativas: ' + str(total_negative_examples))\n",
    "    print()\n",
    "\n",
    "    positive_examples = data[data[CLASS_COLUMN] == 1]\n",
    "    negative_examples = data[data[CLASS_COLUMN] == 0]\n",
    "\n",
    "    positive_examples = positive_examples.sample(frac=1)\n",
    "    negative_examples = negative_examples.sample(frac=1)\n",
    "\n",
    "    train_len_positive_examples = int(total_positive_examples * TRAIN_PERCENTAGE)\n",
    "    train_len_negative_examples = int(total_negative_examples * TRAIN_PERCENTAGE)\n",
    "\n",
    "    positive_examples_1 = positive_examples.iloc[0:train_len_positive_examples]\n",
    "    positive_examples_2 = positive_examples.iloc[train_len_positive_examples:total_positive_examples]\n",
    "    negative_examples_1 = negative_examples.iloc[0:train_len_negative_examples]\n",
    "    negative_examples_2 = negative_examples.iloc[train_len_negative_examples:total_negative_examples]\n",
    "\n",
    "    train_data = pd.concat([positive_examples_1, negative_examples_1])\n",
    "    test_data = pd.concat([positive_examples_2, negative_examples_2])\n",
    "\n",
    "    print('Quantidade de exemplos de treino: ' + str(len(train_data)))\n",
    "    print('Quantidade de exemplos de teste: ' + str(len(test_data)))\n",
    "    print()\n",
    "\n",
    "    train_path = f'{PATH}/{ARCHIVE_NAME}_train_{i+1}.{EXTENSION}'\n",
    "    test_path = f'{PATH}/{ARCHIVE_NAME}_test_{i+1}.{EXTENSION}'\n",
    "\n",
    "    print('Caminho do arquivo de treino: ' + train_path)\n",
    "    print('Caminho de arquivo de teste: ' + test_path)\n",
    "    print()\n",
    "\n",
    "    if (not os.path.isfile(train_path)):\n",
    "        train_data.to_csv(train_path, encoding='utf-8', index=False)\n",
    "    else:\n",
    "        raise Exception(f'Arquivo {test_path} já existe')\n",
    "        \n",
    "    if (not os.path.isfile(test_path)):\n",
    "        test_data.to_csv(test_path, encoding='utf-8', index=False)\n",
    "    else:\n",
    "        raise Exception(f'Arquivo {test_path} já existe')\n",
    "        \n",
    "    print()"
   ]
  },
  {
   "cell_type": "code",
   "execution_count": null,
   "id": "7b743b3f",
   "metadata": {},
   "outputs": [],
   "source": []
  }
 ],
 "metadata": {
  "kernelspec": {
   "display_name": "Python 3 (ipykernel)",
   "language": "python",
   "name": "python3"
  },
  "language_info": {
   "codemirror_mode": {
    "name": "ipython",
    "version": 3
   },
   "file_extension": ".py",
   "mimetype": "text/x-python",
   "name": "python",
   "nbconvert_exporter": "python",
   "pygments_lexer": "ipython3",
   "version": "3.8.10"
  }
 },
 "nbformat": 4,
 "nbformat_minor": 5
}
